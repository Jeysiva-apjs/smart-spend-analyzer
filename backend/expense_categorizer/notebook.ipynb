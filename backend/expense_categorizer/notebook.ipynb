{
 "cells": [
  {
   "cell_type": "code",
   "execution_count": 151,
   "id": "ebd83bd5-917c-4f8f-b1e1-f7d20cec51a1",
   "metadata": {},
   "outputs": [],
   "source": [
    "# Numerical and Data Manipulation\n",
    "import numpy as np  \n",
    "import pandas as pd  \n",
    "\n",
    "# Data Visualization\n",
    "import matplotlib.pyplot as plt  \n",
    "import seaborn as sns  \n",
    "\n",
    "# Machine Learning Libraries\n",
    "from sklearn.model_selection import train_test_split  \n",
    "from sklearn.preprocessing import StandardScaler, MinMaxScaler  \n",
    "from sklearn.metrics import accuracy_score, mean_squared_error, classification_report  "
   ]
  },
  {
   "cell_type": "code",
   "execution_count": 152,
   "id": "a744b5f2-7a02-4101-a861-1be8e713c952",
   "metadata": {},
   "outputs": [],
   "source": [
    "data = pd.read_excel('expense_category_data.xlsx')"
   ]
  },
  {
   "cell_type": "code",
   "execution_count": 153,
   "id": "38a09252-c265-4058-9186-d44473ae1643",
   "metadata": {},
   "outputs": [
    {
     "data": {
      "text/html": [
       "<div>\n",
       "<style scoped>\n",
       "    .dataframe tbody tr th:only-of-type {\n",
       "        vertical-align: middle;\n",
       "    }\n",
       "\n",
       "    .dataframe tbody tr th {\n",
       "        vertical-align: top;\n",
       "    }\n",
       "\n",
       "    .dataframe thead th {\n",
       "        text-align: right;\n",
       "    }\n",
       "</style>\n",
       "<table border=\"1\" class=\"dataframe\">\n",
       "  <thead>\n",
       "    <tr style=\"text-align: right;\">\n",
       "      <th></th>\n",
       "      <th>category</th>\n",
       "      <th>expenses</th>\n",
       "    </tr>\n",
       "  </thead>\n",
       "  <tbody>\n",
       "    <tr>\n",
       "      <th>0</th>\n",
       "      <td>Utilities</td>\n",
       "      <td>Electricity, water, gas, internet, cable TV, p...</td>\n",
       "    </tr>\n",
       "    <tr>\n",
       "      <th>1</th>\n",
       "      <td>Food &amp; Groceries</td>\n",
       "      <td>Fresh produce, meat, dairy products, bread, eg...</td>\n",
       "    </tr>\n",
       "    <tr>\n",
       "      <th>2</th>\n",
       "      <td>Transportation</td>\n",
       "      <td>Car payment, car insurance, gas/fuel, public t...</td>\n",
       "    </tr>\n",
       "    <tr>\n",
       "      <th>3</th>\n",
       "      <td>Health &amp; Wellness</td>\n",
       "      <td>Health insurance premiums, prescription medica...</td>\n",
       "    </tr>\n",
       "    <tr>\n",
       "      <th>4</th>\n",
       "      <td>Entertainment</td>\n",
       "      <td>Streaming services, movie tickets, concert tic...</td>\n",
       "    </tr>\n",
       "  </tbody>\n",
       "</table>\n",
       "</div>"
      ],
      "text/plain": [
       "            category                                           expenses\n",
       "0          Utilities  Electricity, water, gas, internet, cable TV, p...\n",
       "1   Food & Groceries  Fresh produce, meat, dairy products, bread, eg...\n",
       "2     Transportation  Car payment, car insurance, gas/fuel, public t...\n",
       "3  Health & Wellness  Health insurance premiums, prescription medica...\n",
       "4      Entertainment  Streaming services, movie tickets, concert tic..."
      ]
     },
     "execution_count": 153,
     "metadata": {},
     "output_type": "execute_result"
    }
   ],
   "source": [
    "data"
   ]
  },
  {
   "cell_type": "code",
   "execution_count": 154,
   "id": "dfb5512f-8153-4d8d-a5b4-1163e6d091bd",
   "metadata": {},
   "outputs": [],
   "source": [
    "data.set_index('category', inplace=True)"
   ]
  },
  {
   "cell_type": "code",
   "execution_count": 155,
   "id": "32cc573d-f300-4669-a812-d3250f642747",
   "metadata": {},
   "outputs": [],
   "source": [
    "df = pd.DataFrame(columns=['expense', 'category'])\n",
    "\n",
    "for category, row in data.iterrows():\n",
    "    expenses = row['expenses'].split(',')  # Directly access the column\n",
    "    for expense in expenses:\n",
    "        df.loc[len(df)] = [expense.lower(), category]\n",
    "    \n"
   ]
  },
  {
   "cell_type": "code",
   "execution_count": 156,
   "id": "4396a6ea-862f-43e9-91a1-1d232abfe851",
   "metadata": {},
   "outputs": [
    {
     "data": {
      "text/html": [
       "<div>\n",
       "<style scoped>\n",
       "    .dataframe tbody tr th:only-of-type {\n",
       "        vertical-align: middle;\n",
       "    }\n",
       "\n",
       "    .dataframe tbody tr th {\n",
       "        vertical-align: top;\n",
       "    }\n",
       "\n",
       "    .dataframe thead th {\n",
       "        text-align: right;\n",
       "    }\n",
       "</style>\n",
       "<table border=\"1\" class=\"dataframe\">\n",
       "  <thead>\n",
       "    <tr style=\"text-align: right;\">\n",
       "      <th></th>\n",
       "      <th>expense</th>\n",
       "      <th>category</th>\n",
       "    </tr>\n",
       "  </thead>\n",
       "  <tbody>\n",
       "    <tr>\n",
       "      <th>128</th>\n",
       "      <td>parking permits</td>\n",
       "      <td>Transportation</td>\n",
       "    </tr>\n",
       "    <tr>\n",
       "      <th>141</th>\n",
       "      <td>dash cam</td>\n",
       "      <td>Transportation</td>\n",
       "    </tr>\n",
       "    <tr>\n",
       "      <th>7</th>\n",
       "      <td>trash collection</td>\n",
       "      <td>Utilities</td>\n",
       "    </tr>\n",
       "    <tr>\n",
       "      <th>151</th>\n",
       "      <td>vehicle towing</td>\n",
       "      <td>Transportation</td>\n",
       "    </tr>\n",
       "    <tr>\n",
       "      <th>83</th>\n",
       "      <td>nuts</td>\n",
       "      <td>Food &amp; Groceries</td>\n",
       "    </tr>\n",
       "  </tbody>\n",
       "</table>\n",
       "</div>"
      ],
      "text/plain": [
       "               expense          category\n",
       "128    parking permits    Transportation\n",
       "141           dash cam    Transportation\n",
       "7     trash collection         Utilities\n",
       "151     vehicle towing    Transportation\n",
       "83                nuts  Food & Groceries"
      ]
     },
     "execution_count": 156,
     "metadata": {},
     "output_type": "execute_result"
    }
   ],
   "source": [
    "df.sample(5)"
   ]
  },
  {
   "cell_type": "code",
   "execution_count": 157,
   "id": "536a9c1a-d22e-496c-aefa-a8899c5ffeb7",
   "metadata": {},
   "outputs": [
    {
     "data": {
      "text/plain": [
       "category\n",
       "Food & Groceries     54\n",
       "Entertainment        53\n",
       "Health & Wellness    51\n",
       "Utilities            50\n",
       "Transportation       50\n",
       "Name: count, dtype: int64"
      ]
     },
     "execution_count": 157,
     "metadata": {},
     "output_type": "execute_result"
    }
   ],
   "source": [
    "df['category'].value_counts()"
   ]
  },
  {
   "cell_type": "code",
   "execution_count": 158,
   "id": "f0b7d377-6ab9-4876-b9ff-643af1bd4db5",
   "metadata": {},
   "outputs": [],
   "source": [
    "from sklearn.feature_extraction.text import CountVectorizer\n",
    "\n",
    "count_vectorizer = CountVectorizer()\n",
    "X = count_vectorizer.fit_transform(df['expense'])\n",
    "y = df['category']"
   ]
  },
  {
   "cell_type": "code",
   "execution_count": 159,
   "id": "6ea01115-0079-4196-a9ed-9dd19b1036bf",
   "metadata": {},
   "outputs": [
    {
     "data": {
      "text/plain": [
       "0.9651162790697675"
      ]
     },
     "execution_count": 159,
     "metadata": {},
     "output_type": "execute_result"
    }
   ],
   "source": [
    "from sklearn.naive_bayes import MultinomialNB\n",
    "\n",
    "model = MultinomialNB()\n",
    "model.fit(X, y)\n",
    "model.score(X, y)"
   ]
  },
  {
   "cell_type": "code",
   "execution_count": 160,
   "id": "7c7a6492-a674-49ad-bc37-e8cbcaf10ebc",
   "metadata": {},
   "outputs": [
    {
     "name": "stdout",
     "output_type": "stream",
     "text": [
      "                   precision    recall  f1-score   support\n",
      "\n",
      "    Entertainment       0.98      0.98      0.98        53\n",
      " Food & Groceries       0.98      0.98      0.98        54\n",
      "Health & Wellness       0.98      0.96      0.97        51\n",
      "   Transportation       0.98      0.92      0.95        50\n",
      "        Utilities       0.91      0.98      0.94        50\n",
      "\n",
      "         accuracy                           0.97       258\n",
      "        macro avg       0.97      0.96      0.96       258\n",
      "     weighted avg       0.97      0.97      0.97       258\n",
      "\n"
     ]
    }
   ],
   "source": [
    "from sklearn.metrics import classification_report\n",
    "\n",
    "y_pred = model.predict(X)\n",
    "report = classification_report(y, y_pred)\n",
    "print(report)"
   ]
  },
  {
   "cell_type": "code",
   "execution_count": 161,
   "id": "ca2b275d-6657-4e8b-bf2f-24cc52ade895",
   "metadata": {},
   "outputs": [
    {
     "data": {
      "text/plain": [
       "['count_vectorizer.joblib']"
      ]
     },
     "execution_count": 161,
     "metadata": {},
     "output_type": "execute_result"
    }
   ],
   "source": [
    "from joblib import dump, load\n",
    "\n",
    "dump(model, 'model.joblib')\n",
    "dump(count_vectorizer, \"count_vectorizer.joblib\")"
   ]
  },
  {
   "cell_type": "code",
   "execution_count": 162,
   "id": "674e869c-1e06-495f-bae2-8665890267f4",
   "metadata": {},
   "outputs": [
    {
     "name": "stdout",
     "output_type": "stream",
     "text": [
      "Entertainment\n"
     ]
    }
   ],
   "source": [
    "x = count_vectorizer.transform(['movie'])\n",
    "category = model.predict(x)\n",
    "print(category[0])"
   ]
  },
  {
   "cell_type": "code",
   "execution_count": null,
   "id": "2b2fa843-3c3f-4ad9-a34a-d9471b41d994",
   "metadata": {},
   "outputs": [],
   "source": []
  }
 ],
 "metadata": {
  "kernelspec": {
   "display_name": "Python 3 (myenv)",
   "language": "python",
   "name": "myenv"
  },
  "language_info": {
   "codemirror_mode": {
    "name": "ipython",
    "version": 3
   },
   "file_extension": ".py",
   "mimetype": "text/x-python",
   "name": "python",
   "nbconvert_exporter": "python",
   "pygments_lexer": "ipython3",
   "version": "3.13.1"
  }
 },
 "nbformat": 4,
 "nbformat_minor": 5
}
